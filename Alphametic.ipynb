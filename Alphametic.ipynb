{
  "nbformat": 4,
  "nbformat_minor": 0,
  "metadata": {
    "colab": {
      "name": "Alphametic.ipynb",
      "version": "0.3.2",
      "provenance": [],
      "include_colab_link": true
    },
    "kernelspec": {
      "name": "python2",
      "display_name": "Python 2"
    }
  },
  "cells": [
    {
      "cell_type": "markdown",
      "metadata": {
        "id": "view-in-github",
        "colab_type": "text"
      },
      "source": [
        "<a href=\"https://colab.research.google.com/github/Danyson/Machine-Learning-with-Python/blob/master/Alphametic.ipynb\" target=\"_parent\"><img src=\"https://colab.research.google.com/assets/colab-badge.svg\" alt=\"Open In Colab\"/></a>"
      ]
    },
    {
      "cell_type": "code",
      "metadata": {
        "id": "QKZ9hlF0CUOD",
        "colab_type": "code",
        "outputId": "425068f9-4749-485a-a199-35eb56d7393a",
        "colab": {
          "base_uri": "https://localhost:8080/",
          "height": 488
        }
      },
      "source": [
        "from __future__ import division\n",
        "from itertools import permutations\n",
        "from re import findall\n",
        "from string import maketrans\n",
        "\n",
        "def solve(s):\n",
        "  \n",
        "    words = findall('[A-Za-z]+', s)\n",
        "    chars = set(''.join(words))         # characters to be substituted\n",
        "    assert len(chars) <= 10             # there are only ten possible digits\n",
        "    firsts = set(w[0] for w in words)   # first letters of each of word\n",
        "    chars = ''.join(firsts) + ''.join(chars - firsts)   \n",
        "    n = len(firsts)                     # chars[:n] cannot be assigned zero\n",
        "    for perm in permutations('0123456789', len(chars)):\n",
        "        if '0' not in perm[:n]:\n",
        "            trans = maketrans(chars, ''.join(perm))\n",
        "            equation = s.translate(trans)\n",
        "            try:\n",
        "                if eval(equation):\n",
        "                    print equation\n",
        "            except ArithmeticError:\n",
        "                pass\n",
        "\n",
        "for alphametic in [\n",
        "        'SEND + MORE == MONEY',\n",
        "'ZEROES + ONES == BINARY',\n",
        "'SATURN + URANUS + NEPTUNE + PLUTO == PLANETS',\n",
        "'EARTH + AIR + FIRE + WATER == NATURE',\n",
        "'TWO * TWO == SQUARE',\n",
        "'PI * R ** 2 == AREA',\n",
        "'DO + YOU + FEEL == LUCKY',\n",
        "'NOW + WE + KNOW + THE == TRUTH',\n",
        "'THATS + THE + THEORY == ANYWAY',\n",
        "    ]:\n",
        "    print alphametic\n",
        "    solve(alphametic)\n",
        "    print"
      ],
      "execution_count": 0,
      "outputs": [
        {
          "output_type": "stream",
          "text": [
            "SEND + MORE == MONEY\n",
            "9567 + 1085 == 10652\n",
            "\n",
            "ZEROES + ONES == BINARY\n",
            "698392 + 3192 == 701584\n",
            "\n",
            "SATURN + URANUS + NEPTUNE + PLUTO == PLANETS\n",
            "127503 + 502351 + 3947539 + 46578 == 4623971\n",
            "\n",
            "EARTH + AIR + FIRE + WATER == NATURE\n",
            "67432 + 704 + 8046 + 97364 == 173546\n",
            "\n",
            "TWO * TWO == SQUARE\n",
            "567 * 567 == 321489\n",
            "807 * 807 == 651249\n",
            "854 * 854 == 729316\n",
            "\n",
            "PI * R ** 2 == AREA\n",
            "96 * 7 ** 2 == 4704\n",
            "\n",
            "DO + YOU + FEEL == LUCKY\n",
            "57 + 870 + 9441 == 10368\n",
            "\n",
            "NOW + WE + KNOW + THE == TRUTH\n",
            "673 + 38 + 9673 + 128 == 10512\n",
            "\n",
            "THATS + THE + THEORY == ANYWAY\n",
            "86987 + 863 + 863241 == 951091\n",
            "\n"
          ],
          "name": "stdout"
        }
      ]
    }
  ]
}