{
  "nbformat": 4,
  "nbformat_minor": 0,
  "metadata": {
    "colab": {
      "name": "DFS.ipynb",
      "version": "0.3.2",
      "provenance": [],
      "include_colab_link": true
    },
    "kernelspec": {
      "name": "python3",
      "display_name": "Python 3"
    }
  },
  "cells": [
    {
      "cell_type": "markdown",
      "metadata": {
        "id": "view-in-github",
        "colab_type": "text"
      },
      "source": [
        "<a href=\"https://colab.research.google.com/github/Danyson/Machine-Learning-with-Python/blob/master/DFS.ipynb\" target=\"_parent\"><img src=\"https://colab.research.google.com/assets/colab-badge.svg\" alt=\"Open In Colab\"/></a>"
      ]
    },
    {
      "cell_type": "code",
      "metadata": {
        "id": "mkQXK6sjdv5b",
        "colab_type": "code",
        "colab": {
          "base_uri": "https://localhost:8080/",
          "height": 476
        },
        "outputId": "8f547184-7f99-4e00-f7b6-05356aa6df2d"
      },
      "source": [
        "\n",
        "from collections import defaultdict \n",
        "\n",
        "class Graph: \n",
        "\n",
        "\tdef __init__(self): \n",
        "\n",
        "\t\tself.graph = defaultdict(list) \n",
        "\n",
        "\tdef addEdge(self,u,v): \n",
        "\t\tself.graph[u].append(v) \n",
        "\n",
        "\tdef DFSUtil(self,v,visited): \n",
        "\n",
        "\t\tvisited[v]= True\n",
        "\t\tprint (v)\n",
        "\n",
        "\t\tfor i in self.graph[v]: \n",
        "\t\t\tif visited[i] == False: \n",
        "\t\t\t\tself.DFSUtil(i, visited) \n",
        "\n",
        "\n",
        "\tdef DFS(self,v): \n",
        "\n",
        "\t\tvisited = [False]*(len(self.graph)) \n",
        "\n",
        "\t\t\n",
        "\t\tself.DFSUtil(v,visited) \n",
        "\n",
        "\n",
        "\n",
        "\n",
        "g=Graph()\n",
        "\n",
        "print(\"Give No of links to add in tree\")\n",
        "n=input()\n",
        "\n",
        "for i in range(int(n)):\n",
        "  n1=input()\n",
        "  n2=input()\n",
        "  g.addEdge(int(n1),int(n2))\n",
        "  print(\"Link added between\"+\" \"+n1+\" \"+\"and\"+\" \"+n2 )\n",
        "\n",
        "print (\"Give The Starting Vertex\")\n",
        "ver_start=input()\n",
        "print(\"Result\")\n",
        "g.DFS(int(ver_start)) \n",
        "\n",
        "\n",
        "\n",
        "\n",
        "\n",
        "\n",
        "\n",
        "\n",
        "\n",
        "\n",
        "\n",
        "\n",
        "\n",
        "\n",
        "\n"
      ],
      "execution_count": 22,
      "outputs": [
        {
          "output_type": "stream",
          "text": [
            "Give No of links to add in tree\n",
            "6\n",
            "0\n",
            "1\n",
            "Link added between 0 and 1\n",
            "0\n",
            "2\n",
            "Link added between 0 and 2\n",
            "2\n",
            "0\n",
            "Link added between 2 and 0\n",
            "1\n",
            "2\n",
            "Link added between 1 and 2\n",
            "2\n",
            "3\n",
            "Link added between 2 and 3\n",
            "3\n",
            "3\n",
            "Link added between 3 and 3\n",
            "Give The Starting Vertex\n",
            "2\n",
            "Result\n",
            "2\n",
            "0\n",
            "1\n",
            "3\n"
          ],
          "name": "stdout"
        }
      ]
    },
    {
      "cell_type": "code",
      "metadata": {
        "id": "a-Kw4b9VgT_5",
        "colab_type": "code",
        "colab": {}
      },
      "source": [
        ""
      ],
      "execution_count": 0,
      "outputs": []
    }
  ]
}