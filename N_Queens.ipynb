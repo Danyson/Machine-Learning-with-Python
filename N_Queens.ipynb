{
  "nbformat": 4,
  "nbformat_minor": 0,
  "metadata": {
    "colab": {
      "name": "N-Queens.ipynb",
      "version": "0.3.2",
      "provenance": [],
      "include_colab_link": true
    },
    "kernelspec": {
      "name": "python3",
      "display_name": "Python 3"
    }
  },
  "cells": [
    {
      "cell_type": "markdown",
      "metadata": {
        "id": "view-in-github",
        "colab_type": "text"
      },
      "source": [
        "<a href=\"https://colab.research.google.com/github/Danyson/Machine-Learning-with-Python/blob/master/N_Queens.ipynb\" target=\"_parent\"><img src=\"https://colab.research.google.com/assets/colab-badge.svg\" alt=\"Open In Colab\"/></a>"
      ]
    },
    {
      "cell_type": "code",
      "metadata": {
        "id": "t9AXMdUBdVrQ",
        "colab_type": "code",
        "outputId": "e1131ac4-3dd8-4d9c-ea00-ec8cf37f2463",
        "colab": {
          "base_uri": "https://localhost:8080/",
          "height": 238
        }
      },
      "source": [
        "import copy\n",
        "\n",
        "def take_input():\n",
        "    \"\"\"Accepts the size of the chess board\"\"\"\n",
        "\n",
        "    while True:\n",
        "        try:\n",
        "            size = int(input('What is the size of the chessboard? n = \\n'))\n",
        "            if size == 1:\n",
        "                print(\"Trivial solution, choose a board size of atleast 4\")\n",
        "            if size <= 3:\n",
        "                print(\"Enter a value such that size>=4\")\n",
        "                continue\n",
        "            return size\n",
        "        except ValueError:\n",
        "            print(\"Invalid value entered. Enter again\")\n",
        "\n",
        "def get_board(size):\n",
        "    \"\"\"Returns an n by n board\"\"\"\n",
        "    board = [0]*size\n",
        "    for ix in range(size):\n",
        "        board[ix] = [0]*size\n",
        "    return board\n",
        "\n",
        "def print_solutions(solutions, size):\n",
        "    \"\"\"Prints all the solutions in user friendly way\"\"\"\n",
        "    for sol in solutions:\n",
        "        for row in sol:\n",
        "            print(row)\n",
        "        print()\n",
        "            \n",
        "def is_safe(board, row, col, size):\n",
        "    \"\"\"Check if it's safe to place a queen at board[x][y]\"\"\"\n",
        "\n",
        "    #check row on left side\n",
        "    for iy in range(col):\n",
        "        if board[row][iy] == 1:\n",
        "            return False\n",
        "    \n",
        "    ix, iy = row, col\n",
        "    while ix >= 0 and iy >= 0:\n",
        "        if board[ix][iy] == 1:\n",
        "            return False\n",
        "        ix-=1\n",
        "        iy-=1\n",
        "    \n",
        "    jx, jy = row,col\n",
        "    while jx < size and jy >= 0:\n",
        "        if board[jx][jy] == 1:\n",
        "            return False\n",
        "        jx+=1\n",
        "        jy-=1\n",
        "    \n",
        "    return True\n",
        "\n",
        "def solve(board, col, size):\n",
        "    \"\"\"Use backtracking to find all solutions\"\"\"\n",
        "    #base case\n",
        "    if col >= size:\n",
        "        return\n",
        "    \n",
        "    for i in range(size):\n",
        "        if is_safe(board, i, col, size):\n",
        "            board[i][col] = 1\n",
        "            if col == size-1:\n",
        "                add_solution(board)\n",
        "                board[i][col] = 0\n",
        "                return\n",
        "            solve(board, col+1, size)\n",
        "            #backtrack\n",
        "            board[i][col] = 0\n",
        "\n",
        "def add_solution(board):\n",
        "    \"\"\"Saves the board state to the global variable 'solutions'\"\"\"\n",
        "    global solutions\n",
        "    saved_board = copy.deepcopy(board)\n",
        "    solutions.append(saved_board)\n",
        "\n",
        "size = take_input()\n",
        "\n",
        "\n",
        "board = get_board(size)\n",
        "\n",
        "\n",
        "solutions = []\n",
        "\n",
        "solve(board, 0, size)\n",
        "\n",
        "print_solutions(solutions, size)\n",
        "\n",
        "print(\"Total solutions = {}\".format(len(solutions)))"
      ],
      "execution_count": 0,
      "outputs": [
        {
          "output_type": "stream",
          "text": [
            "What is the size of the chessboard? n = \n",
            "4\n",
            "[0, 0, 1, 0]\n",
            "[1, 0, 0, 0]\n",
            "[0, 0, 0, 1]\n",
            "[0, 1, 0, 0]\n",
            "\n",
            "[0, 1, 0, 0]\n",
            "[0, 0, 0, 1]\n",
            "[1, 0, 0, 0]\n",
            "[0, 0, 1, 0]\n",
            "\n",
            "Total solutions = 2\n"
          ],
          "name": "stdout"
        }
      ]
    }
  ]
}